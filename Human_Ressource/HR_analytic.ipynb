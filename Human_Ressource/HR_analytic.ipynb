{
 "cells": [
  {
   "attachments": {
    "HR_image2.webp": {
     "image/webp": "[encoded data removed]"
    }
   },
   "cell_type": "markdown",
   "id": "15646bcf",
   "metadata": {},
   "source": [
    "![HR_image2.webp](attachment:HR_image2.webp)"
   ]
  },
  {
   "cell_type": "markdown",
   "id": "d588046a",
   "metadata": {},
   "source": [
    "## Introduction"
   ]
  },
  {
   "cell_type": "markdown",
   "id": "be9ac38b",
   "metadata": {},
   "source": [
    "Human resources management is becoming a concern for large companies these days. The data must be analyzed in order to understand the needs of employees, the company as well as the factors that can promote a good working climate between workers."
   ]
  },
  {
   "cell_type": "markdown",
   "id": "4fd20ebe",
   "metadata": {},
   "source": [
    "## 1. Reading csv data"
   ]
  },
  {
   "cell_type": "code",
   "execution_count": 1,
   "id": "62d34e70",
   "metadata": {},
   "outputs": [
    {
     "ename": "NameError",
     "evalue": "name 'warnings' is not defined",
     "output_type": "error",
     "traceback": [
      "\u001b[0;31m---------------------------------------------------------------------------\u001b[0m",
      "\u001b[0;31mNameError\u001b[0m                                 Traceback (most recent call last)",
      "\u001b[0;32m/tmp/ipykernel_74724/113599797.py\u001b[0m in \u001b[0;36m<module>\u001b[0;34m\u001b[0m\n\u001b[1;32m      5\u001b[0m \u001b[0;32mimport\u001b[0m \u001b[0mplotly\u001b[0m\u001b[0;34m.\u001b[0m\u001b[0mexpress\u001b[0m \u001b[0;32mas\u001b[0m \u001b[0mpx\u001b[0m\u001b[0;34m\u001b[0m\u001b[0;34m\u001b[0m\u001b[0m\n\u001b[1;32m      6\u001b[0m \u001b[0;32mfrom\u001b[0m \u001b[0mplotly\u001b[0m\u001b[0;34m.\u001b[0m\u001b[0moffline\u001b[0m \u001b[0;32mimport\u001b[0m \u001b[0mdownload_plotlyjs\u001b[0m\u001b[0;34m,\u001b[0m\u001b[0minit_notebook_mode\u001b[0m\u001b[0;34m\u001b[0m\u001b[0;34m\u001b[0m\u001b[0m\n\u001b[0;32m----> 7\u001b[0;31m \u001b[0mwarnings\u001b[0m\u001b[0;34m.\u001b[0m\u001b[0mfilterwarnings\u001b[0m\u001b[0;34m(\u001b[0m\u001b[0;34m\"ignore\"\u001b[0m\u001b[0;34m)\u001b[0m\u001b[0;34m\u001b[0m\u001b[0;34m\u001b[0m\u001b[0m\n\u001b[0m",
      "\u001b[0;31mNameError\u001b[0m: name 'warnings' is not defined"
     ]
    }
   ],
   "source": [
    "import numpy as np\n",
    "import pandas as pd\n",
    "import matplotlib.pyplot as plt\n",
    "import seaborn as sns\n",
    "import plotly.express as px\n",
    "from plotly.offline import download_plotlyjs,init_notebook_mode\n",
    "warnings.filterwarnings(\"ignore\")\n"
   ]
  },
  {
   "cell_type": "code",
   "execution_count": null,
   "id": "7630a809",
   "metadata": {
    "scrolled": true
   },
   "outputs": [],
   "source": [
    "data =  pd.read_csv(\"HR-Employee-Attrition.csv\")\n",
    "data"
   ]
  },
  {
   "cell_type": "code",
   "execution_count": null,
   "id": "02eaf864",
   "metadata": {
    "scrolled": false
   },
   "outputs": [],
   "source": [
    "data.dtypes"
   ]
  },
  {
   "cell_type": "code",
   "execution_count": null,
   "id": "c30f78d2",
   "metadata": {},
   "outputs": [],
   "source": [
    "col = data.columns.tolist()\n",
    "for i in col:\n",
    "    print(i)\n",
    "    print(data[i].unique)"
   ]
  },
  {
   "cell_type": "code",
   "execution_count": null,
   "id": "e79bdc31",
   "metadata": {
    "scrolled": true
   },
   "outputs": [],
   "source": [
    "data.describe()"
   ]
  },
  {
   "cell_type": "markdown",
   "id": "023d669c",
   "metadata": {},
   "source": [
    "## 2. Data cleaning"
   ]
  },
  {
   "cell_type": "code",
   "execution_count": null,
   "id": "cf196e56",
   "metadata": {},
   "outputs": [],
   "source": [
    "data.dtypes"
   ]
  },
  {
   "cell_type": "code",
   "execution_count": null,
   "id": "35e0df69",
   "metadata": {},
   "outputs": [],
   "source": [
    "data.isnull().sum()"
   ]
  },
  {
   "cell_type": "code",
   "execution_count": null,
   "id": "9f36fa6b",
   "metadata": {},
   "outputs": [],
   "source": [
    "num_columns = data.select_dtypes(include=['int','float']).columns.tolist() \n",
    "len(num_columns)"
   ]
  },
  {
   "cell_type": "code",
   "execution_count": null,
   "id": "3f530167",
   "metadata": {},
   "outputs": [],
   "source": [
    "data.isna().sum()"
   ]
  },
  {
   "cell_type": "code",
   "execution_count": null,
   "id": "971c7b45",
   "metadata": {},
   "outputs": [],
   "source": [
    "data.duplicated()"
   ]
  },
  {
   "cell_type": "code",
   "execution_count": null,
   "id": "8fb47527",
   "metadata": {},
   "outputs": [],
   "source": [
    "data = data.drop(['EmployeeCount','StandardHours'],axis=1)"
   ]
  },
  {
   "cell_type": "markdown",
   "id": "b72e18f1",
   "metadata": {},
   "source": [
    "## 3. Data Analysis, Exploratory and Visualization"
   ]
  },
  {
   "cell_type": "code",
   "execution_count": null,
   "id": "07465bd1",
   "metadata": {},
   "outputs": [],
   "source": [
    "data.hist(figsize=(15,15))\n",
    "plt.show()"
   ]
  },
  {
   "cell_type": "code",
   "execution_count": null,
   "id": "fcaee3dd",
   "metadata": {},
   "outputs": [],
   "source": [
    "f,ax = plt.subplots(figsize=(18, 18))\n",
    "sns.heatmap(data.corr(), annot=True, linewidths=.4, fmt= '.1f',ax=ax)\n",
    "plt.show()\n"
   ]
  },
  {
   "cell_type": "markdown",
   "id": "4bbaa6da",
   "metadata": {},
   "source": [
    "## Overtime"
   ]
  },
  {
   "cell_type": "code",
   "execution_count": null,
   "id": "00ec8d26",
   "metadata": {},
   "outputs": [],
   "source": [
    "plt.figure(figsize = (20, 15))\n",
    "sns.countplot(y = data['OverTime'])\n",
    "plt.title(\"Overtime result\", fontsize = 20)\n",
    "plt.show"
   ]
  },
  {
   "cell_type": "markdown",
   "id": "8e7db9ea",
   "metadata": {},
   "source": [
    "## Marital status"
   ]
  },
  {
   "cell_type": "code",
   "execution_count": null,
   "id": "40000627",
   "metadata": {},
   "outputs": [],
   "source": [
    "plot_maritalstatus = data['MaritalStatus'].value_counts().reset_index()\n",
    "plot_maritalstatus.columns = ['MaritalStatus','count']\n",
    "px.pie(plot_maritalstatus,values='count',names='MaritalStatus',template='plotly_white',title='MaritalStatus')"
   ]
  },
  {
   "cell_type": "markdown",
   "id": "b2a06f48",
   "metadata": {},
   "source": [
    "## Job role"
   ]
  },
  {
   "cell_type": "code",
   "execution_count": null,
   "id": "7fd6425e",
   "metadata": {},
   "outputs": [],
   "source": [
    "plt.figure(figsize = (20, 16))\n",
    "sns.countplot(y = data['JobRole'])\n",
    "plt.title(\"JobRole result\", fontsize = 30)\n",
    "plt.show"
   ]
  },
  {
   "cell_type": "markdown",
   "id": "f665ca20",
   "metadata": {},
   "source": [
    "## Gender"
   ]
  },
  {
   "cell_type": "code",
   "execution_count": null,
   "id": "dc20e711",
   "metadata": {},
   "outputs": [],
   "source": [
    "plot_gender = data['Gender'].value_counts().reset_index()\n",
    "plot_gender.columns = ['Gender','count']\n",
    "\n",
    "px.pie(plot_gender,values='count',names='Gender',template='simple_white',title='Gender')"
   ]
  },
  {
   "cell_type": "markdown",
   "id": "090d54c2",
   "metadata": {},
   "source": [
    "## Education Field"
   ]
  },
  {
   "cell_type": "code",
   "execution_count": null,
   "id": "3996490d",
   "metadata": {},
   "outputs": [],
   "source": [
    "plt.figure(figsize = (20, 15))\n",
    "sns.countplot(y = data['EducationField'])\n",
    "plt.title(\"EducationField result\", fontsize = 20)\n",
    "plt.show"
   ]
  },
  {
   "cell_type": "markdown",
   "id": "55d2cb40",
   "metadata": {},
   "source": [
    "## Département "
   ]
  },
  {
   "cell_type": "code",
   "execution_count": null,
   "id": "23844862",
   "metadata": {},
   "outputs": [],
   "source": [
    "plot_departement = data['Department'].value_counts().reset_index()\n",
    "plot_departement.columns = ['Department','count']\n",
    "\n",
    "px.pie(plot_departement,values='count',names='Department',template='plotly',title='Department')"
   ]
  },
  {
   "cell_type": "markdown",
   "id": "bd36af24",
   "metadata": {},
   "source": [
    "## Business Travel"
   ]
  },
  {
   "cell_type": "code",
   "execution_count": null,
   "id": "963dbbde",
   "metadata": {},
   "outputs": [],
   "source": [
    "plt.figure(figsize = (20, 15))\n",
    "sns.countplot(y = data['BusinessTravel'])\n",
    "plt.title(\"BusinessTravel result\", fontsize = 20)\n",
    "plt.show"
   ]
  },
  {
   "cell_type": "markdown",
   "id": "f3ac2464",
   "metadata": {},
   "source": [
    "## Education"
   ]
  },
  {
   "cell_type": "code",
   "execution_count": null,
   "id": "919495c6",
   "metadata": {},
   "outputs": [],
   "source": [
    "plot_education = data['Education'].value_counts().reset_index()\n",
    "plot_education.columns = ['Education','count']\n",
    "\n",
    "px.pie(plot_education,values='count',names='Education',template='plotly',title='Education')"
   ]
  },
  {
   "cell_type": "code",
   "execution_count": null,
   "id": "dc0bd510",
   "metadata": {},
   "outputs": [],
   "source": [
    "plt.figure(figsize = (20, 15))\n",
    "sns.countplot(y = data['DistanceFromHome'])\n",
    "plt.title(\"DistanceFromHome result\", fontsize = 20)\n",
    "plt.show"
   ]
  },
  {
   "cell_type": "code",
   "execution_count": null,
   "id": "a143a158",
   "metadata": {},
   "outputs": [],
   "source": [
    "plot_buissnes_travel = data['BusinessTravel'].value_counts().reset_index()\n",
    "plot_buissnes_travel.columns = ['BusinessTravel','count']\n",
    "\n",
    "px.pie(plot_buissnes_travel,values='count',names='BusinessTravel',template='ggplot2',title='Business Travel')"
   ]
  },
  {
   "cell_type": "code",
   "execution_count": null,
   "id": "dc6cce97",
   "metadata": {},
   "outputs": [],
   "source": [
    "plt.figure(figsize = (20, 15))\n",
    "sns.countplot(y = data['TotalWorkingYears'])\n",
    "plt.title(\"TotalWorkingYears result\", fontsize = 20)\n",
    "plt.show"
   ]
  },
  {
   "cell_type": "code",
   "execution_count": null,
   "id": "38633950",
   "metadata": {},
   "outputs": [],
   "source": [
    "plt.figure(figsize = (20, 15))\n",
    "sns.countplot(y = data['Education'])\n",
    "plt.scatter(data['Age'], data['OverTime'])\n",
    "plt.xlabel('Age')\n",
    "plt.ylabel('OverTime')\n",
    "plt.title('Relation between Overtime and Age')\n",
    "\n",
    "plt.show()"
   ]
  },
  {
   "cell_type": "markdown",
   "id": "2d4228cb",
   "metadata": {},
   "source": [
    "## Relation between overtime and age"
   ]
  },
  {
   "cell_type": "code",
   "execution_count": null,
   "id": "4353bfb8",
   "metadata": {},
   "outputs": [],
   "source": [
    "\n",
    "sns.kdeplot(data.loc[data['OverTime']=='No','Age'], label='No')\n",
    "sns.kdeplot(data.loc[data['OverTime']=='Yes','Age'], label='Yes')\n",
    "plt.legend()\n",
    "plt.show()"
   ]
  },
  {
   "cell_type": "markdown",
   "id": "c5cac03e",
   "metadata": {},
   "source": [
    "## Conclusion"
   ]
  },
  {
   "cell_type": "markdown",
   "id": "d1a6f518",
   "metadata": {},
   "source": [
    "This project is part of my internship as a Data Analyst at MeriSkill. The dataset used is that provided by the internship institution. We cleaned the dataset and we have some analyzes. For each featrue, we can see the proportion of values."
   ]
  }
 ],
 "metadata": {
  "kernelspec": {
   "display_name": "Python 3 (ipykernel)",
   "language": "python",
   "name": "python3"
  },
  "language_info": {
   "codemirror_mode": {
    "name": "ipython",
    "version": 3
   },
   "file_extension": ".py",
   "mimetype": "text/x-python",
   "name": "python",
   "nbconvert_exporter": "python",
   "pygments_lexer": "ipython3",
   "version": "3.9.7"
  }
 },
 "nbformat": 4,
 "nbformat_minor": 5
}
